{
  "cells": [
    {
      "cell_type": "markdown",
      "id": "46a8a7a0",
      "metadata": {
        "deletable": false,
        "editable": false,
        "run_control": {
          "frozen": true
        },
        "id": "46a8a7a0"
      },
      "source": [
        "<hr style=\"height:.9px;border:none;color:#333;background-color:#333;\" />\n",
        "<hr style=\"height:.9px;border:none;color:#333;background-color:#333;\" />\n",
        "\n",
        "<h2>Homework - Unsupervised Learning (Principal Component Analysis)</h2>\n",
        "<h4>DAT-5303 | Machine Learning</h4>\n",
        "\n",
        "<br>\n",
        "<hr style=\"height:.9px;border:none;color:#333;background-color:#333;\" />\n",
        "<hr style=\"height:.9px;border:none;color:#333;background-color:#333;\" />"
      ]
    },
    {
      "cell_type": "markdown",
      "id": "894d6d3d",
      "metadata": {
        "id": "894d6d3d"
      },
      "source": [
        "Team: Team 6 Steve Badolo/Alejandro Buitrago/Monday Garba/Juan Peña"
      ]
    },
    {
      "cell_type": "markdown",
      "id": "a5eb8e6f",
      "metadata": {
        "deletable": false,
        "editable": false,
        "run_control": {
          "frozen": true
        },
        "id": "a5eb8e6f"
      },
      "source": [
        "<hr style=\"height:.9px;border:none;color:#333;background-color:#333;\" />\n",
        "<br>\n",
        "Your team's job in this homework is to conduct principal component analysis on the continuous variables of the Ames, Iowa housing dataset. Use <em>Script 7 - Principal Component Analysis</em> to help guide your coding, and work as a team to interpret the results.\n",
        "\n",
        "<h3>Step 1</h3>\n",
        "Import packages, data, and user-defined functions."
      ]
    },
    {
      "cell_type": "code",
      "execution_count": 1,
      "id": "7173da84",
      "metadata": {
        "colab": {
          "resources": {
            "http://localhost:8080/nbextensions/google.colab/files.js": {
              "data": "Ly8gQ29weXJpZ2h0IDIwMTcgR29vZ2xlIExMQwovLwovLyBMaWNlbnNlZCB1bmRlciB0aGUgQXBhY2hlIExpY2Vuc2UsIFZlcnNpb24gMi4wICh0aGUgIkxpY2Vuc2UiKTsKLy8geW91IG1heSBub3QgdXNlIHRoaXMgZmlsZSBleGNlcHQgaW4gY29tcGxpYW5jZSB3aXRoIHRoZSBMaWNlbnNlLgovLyBZb3UgbWF5IG9idGFpbiBhIGNvcHkgb2YgdGhlIExpY2Vuc2UgYXQKLy8KLy8gICAgICBodHRwOi8vd3d3LmFwYWNoZS5vcmcvbGljZW5zZXMvTElDRU5TRS0yLjAKLy8KLy8gVW5sZXNzIHJlcXVpcmVkIGJ5IGFwcGxpY2FibGUgbGF3IG9yIGFncmVlZCB0byBpbiB3cml0aW5nLCBzb2Z0d2FyZQovLyBkaXN0cmlidXRlZCB1bmRlciB0aGUgTGljZW5zZSBpcyBkaXN0cmlidXRlZCBvbiBhbiAiQVMgSVMiIEJBU0lTLAovLyBXSVRIT1VUIFdBUlJBTlRJRVMgT1IgQ09ORElUSU9OUyBPRiBBTlkgS0lORCwgZWl0aGVyIGV4cHJlc3Mgb3IgaW1wbGllZC4KLy8gU2VlIHRoZSBMaWNlbnNlIGZvciB0aGUgc3BlY2lmaWMgbGFuZ3VhZ2UgZ292ZXJuaW5nIHBlcm1pc3Npb25zIGFuZAovLyBsaW1pdGF0aW9ucyB1bmRlciB0aGUgTGljZW5zZS4KCi8qKgogKiBAZmlsZW92ZXJ2aWV3IEhlbHBlcnMgZm9yIGdvb2dsZS5jb2xhYiBQeXRob24gbW9kdWxlLgogKi8KKGZ1bmN0aW9uKHNjb3BlKSB7CmZ1bmN0aW9uIHNwYW4odGV4dCwgc3R5bGVBdHRyaWJ1dGVzID0ge30pIHsKICBjb25zdCBlbGVtZW50ID0gZG9jdW1lbnQuY3JlYXRlRWxlbWVudCgnc3BhbicpOwogIGVsZW1lbnQudGV4dENvbnRlbnQgPSB0ZXh0OwogIGZvciAoY29uc3Qga2V5IG9mIE9iamVjdC5rZXlzKHN0eWxlQXR0cmlidXRlcykpIHsKICAgIGVsZW1lbnQuc3R5bGVba2V5XSA9IHN0eWxlQXR0cmlidXRlc1trZXldOwogIH0KICByZXR1cm4gZWxlbWVudDsKfQoKLy8gTWF4IG51bWJlciBvZiBieXRlcyB3aGljaCB3aWxsIGJlIHVwbG9hZGVkIGF0IGEgdGltZS4KY29uc3QgTUFYX1BBWUxPQURfU0laRSA9IDEwMCAqIDEwMjQ7CgpmdW5jdGlvbiBfdXBsb2FkRmlsZXMoaW5wdXRJZCwgb3V0cHV0SWQpIHsKICBjb25zdCBzdGVwcyA9IHVwbG9hZEZpbGVzU3RlcChpbnB1dElkLCBvdXRwdXRJZCk7CiAgY29uc3Qgb3V0cHV0RWxlbWVudCA9IGRvY3VtZW50LmdldEVsZW1lbnRCeUlkKG91dHB1dElkKTsKICAvLyBDYWNoZSBzdGVwcyBvbiB0aGUgb3V0cHV0RWxlbWVudCB0byBtYWtlIGl0IGF2YWlsYWJsZSBmb3IgdGhlIG5leHQgY2FsbAogIC8vIHRvIHVwbG9hZEZpbGVzQ29udGludWUgZnJvbSBQeXRob24uCiAgb3V0cHV0RWxlbWVudC5zdGVwcyA9IHN0ZXBzOwoKICByZXR1cm4gX3VwbG9hZEZpbGVzQ29udGludWUob3V0cHV0SWQpOwp9CgovLyBUaGlzIGlzIHJvdWdobHkgYW4gYXN5bmMgZ2VuZXJhdG9yIChub3Qgc3VwcG9ydGVkIGluIHRoZSBicm93c2VyIHlldCksCi8vIHdoZXJlIHRoZXJlIGFyZSBtdWx0aXBsZSBhc3luY2hyb25vdXMgc3RlcHMgYW5kIHRoZSBQeXRob24gc2lkZSBpcyBnb2luZwovLyB0byBwb2xsIGZvciBjb21wbGV0aW9uIG9mIGVhY2ggc3RlcC4KLy8gVGhpcyB1c2VzIGEgUHJvbWlzZSB0byBibG9jayB0aGUgcHl0aG9uIHNpZGUgb24gY29tcGxldGlvbiBvZiBlYWNoIHN0ZXAsCi8vIHRoZW4gcGFzc2VzIHRoZSByZXN1bHQgb2YgdGhlIHByZXZpb3VzIHN0ZXAgYXMgdGhlIGlucHV0IHRvIHRoZSBuZXh0IHN0ZXAuCmZ1bmN0aW9uIF91cGxvYWRGaWxlc0NvbnRpbnVlKG91dHB1dElkKSB7CiAgY29uc3Qgb3V0cHV0RWxlbWVudCA9IGRvY3VtZW50LmdldEVsZW1lbnRCeUlkKG91dHB1dElkKTsKICBjb25zdCBzdGVwcyA9IG91dHB1dEVsZW1lbnQuc3RlcHM7CgogIGNvbnN0IG5leHQgPSBzdGVwcy5uZXh0KG91dHB1dEVsZW1lbnQubGFzdFByb21pc2VWYWx1ZSk7CiAgcmV0dXJuIFByb21pc2UucmVzb2x2ZShuZXh0LnZhbHVlLnByb21pc2UpLnRoZW4oKHZhbHVlKSA9PiB7CiAgICAvLyBDYWNoZSB0aGUgbGFzdCBwcm9taXNlIHZhbHVlIHRvIG1ha2UgaXQgYXZhaWxhYmxlIHRvIHRoZSBuZXh0CiAgICAvLyBzdGVwIG9mIHRoZSBnZW5lcmF0b3IuCiAgICBvdXRwdXRFbGVtZW50Lmxhc3RQcm9taXNlVmFsdWUgPSB2YWx1ZTsKICAgIHJldHVybiBuZXh0LnZhbHVlLnJlc3BvbnNlOwogIH0pOwp9CgovKioKICogR2VuZXJhdG9yIGZ1bmN0aW9uIHdoaWNoIGlzIGNhbGxlZCBiZXR3ZWVuIGVhY2ggYXN5bmMgc3RlcCBvZiB0aGUgdXBsb2FkCiAqIHByb2Nlc3MuCiAqIEBwYXJhbSB7c3RyaW5nfSBpbnB1dElkIEVsZW1lbnQgSUQgb2YgdGhlIGlucHV0IGZpbGUgcGlja2VyIGVsZW1lbnQuCiAqIEBwYXJhbSB7c3RyaW5nfSBvdXRwdXRJZCBFbGVtZW50IElEIG9mIHRoZSBvdXRwdXQgZGlzcGxheS4KICogQHJldHVybiB7IUl0ZXJhYmxlPCFPYmplY3Q+fSBJdGVyYWJsZSBvZiBuZXh0IHN0ZXBzLgogKi8KZnVuY3Rpb24qIHVwbG9hZEZpbGVzU3RlcChpbnB1dElkLCBvdXRwdXRJZCkgewogIGNvbnN0IGlucHV0RWxlbWVudCA9IGRvY3VtZW50LmdldEVsZW1lbnRCeUlkKGlucHV0SWQpOwogIGlucHV0RWxlbWVudC5kaXNhYmxlZCA9IGZhbHNlOwoKICBjb25zdCBvdXRwdXRFbGVtZW50ID0gZG9jdW1lbnQuZ2V0RWxlbWVudEJ5SWQob3V0cHV0SWQpOwogIG91dHB1dEVsZW1lbnQuaW5uZXJIVE1MID0gJyc7CgogIGNvbnN0IHBpY2tlZFByb21pc2UgPSBuZXcgUHJvbWlzZSgocmVzb2x2ZSkgPT4gewogICAgaW5wdXRFbGVtZW50LmFkZEV2ZW50TGlzdGVuZXIoJ2NoYW5nZScsIChlKSA9PiB7CiAgICAgIHJlc29sdmUoZS50YXJnZXQuZmlsZXMpOwogICAgfSk7CiAgfSk7CgogIGNvbnN0IGNhbmNlbCA9IGRvY3VtZW50LmNyZWF0ZUVsZW1lbnQoJ2J1dHRvbicpOwogIGlucHV0RWxlbWVudC5wYXJlbnRFbGVtZW50LmFwcGVuZENoaWxkKGNhbmNlbCk7CiAgY2FuY2VsLnRleHRDb250ZW50ID0gJ0NhbmNlbCB1cGxvYWQnOwogIGNvbnN0IGNhbmNlbFByb21pc2UgPSBuZXcgUHJvbWlzZSgocmVzb2x2ZSkgPT4gewogICAgY2FuY2VsLm9uY2xpY2sgPSAoKSA9PiB7CiAgICAgIHJlc29sdmUobnVsbCk7CiAgICB9OwogIH0pOwoKICAvLyBXYWl0IGZvciB0aGUgdXNlciB0byBwaWNrIHRoZSBmaWxlcy4KICBjb25zdCBmaWxlcyA9IHlpZWxkIHsKICAgIHByb21pc2U6IFByb21pc2UucmFjZShbcGlja2VkUHJvbWlzZSwgY2FuY2VsUHJvbWlzZV0pLAogICAgcmVzcG9uc2U6IHsKICAgICAgYWN0aW9uOiAnc3RhcnRpbmcnLAogICAgfQogIH07CgogIGNhbmNlbC5yZW1vdmUoKTsKCiAgLy8gRGlzYWJsZSB0aGUgaW5wdXQgZWxlbWVudCBzaW5jZSBmdXJ0aGVyIHBpY2tzIGFyZSBub3QgYWxsb3dlZC4KICBpbnB1dEVsZW1lbnQuZGlzYWJsZWQgPSB0cnVlOwoKICBpZiAoIWZpbGVzKSB7CiAgICByZXR1cm4gewogICAgICByZXNwb25zZTogewogICAgICAgIGFjdGlvbjogJ2NvbXBsZXRlJywKICAgICAgfQogICAgfTsKICB9CgogIGZvciAoY29uc3QgZmlsZSBvZiBmaWxlcykgewogICAgY29uc3QgbGkgPSBkb2N1bWVudC5jcmVhdGVFbGVtZW50KCdsaScpOwogICAgbGkuYXBwZW5kKHNwYW4oZmlsZS5uYW1lLCB7Zm9udFdlaWdodDogJ2JvbGQnfSkpOwogICAgbGkuYXBwZW5kKHNwYW4oCiAgICAgICAgYCgke2ZpbGUudHlwZSB8fCAnbi9hJ30pIC0gJHtmaWxlLnNpemV9IGJ5dGVzLCBgICsKICAgICAgICBgbGFzdCBtb2RpZmllZDogJHsKICAgICAgICAgICAgZmlsZS5sYXN0TW9kaWZpZWREYXRlID8gZmlsZS5sYXN0TW9kaWZpZWREYXRlLnRvTG9jYWxlRGF0ZVN0cmluZygpIDoKICAgICAgICAgICAgICAgICAgICAgICAgICAgICAgICAgICAgJ24vYSd9IC0gYCkpOwogICAgY29uc3QgcGVyY2VudCA9IHNwYW4oJzAlIGRvbmUnKTsKICAgIGxpLmFwcGVuZENoaWxkKHBlcmNlbnQpOwoKICAgIG91dHB1dEVsZW1lbnQuYXBwZW5kQ2hpbGQobGkpOwoKICAgIGNvbnN0IGZpbGVEYXRhUHJvbWlzZSA9IG5ldyBQcm9taXNlKChyZXNvbHZlKSA9PiB7CiAgICAgIGNvbnN0IHJlYWRlciA9IG5ldyBGaWxlUmVhZGVyKCk7CiAgICAgIHJlYWRlci5vbmxvYWQgPSAoZSkgPT4gewogICAgICAgIHJlc29sdmUoZS50YXJnZXQucmVzdWx0KTsKICAgICAgfTsKICAgICAgcmVhZGVyLnJlYWRBc0FycmF5QnVmZmVyKGZpbGUpOwogICAgfSk7CiAgICAvLyBXYWl0IGZvciB0aGUgZGF0YSB0byBiZSByZWFkeS4KICAgIGxldCBmaWxlRGF0YSA9IHlpZWxkIHsKICAgICAgcHJvbWlzZTogZmlsZURhdGFQcm9taXNlLAogICAgICByZXNwb25zZTogewogICAgICAgIGFjdGlvbjogJ2NvbnRpbnVlJywKICAgICAgfQogICAgfTsKCiAgICAvLyBVc2UgYSBjaHVua2VkIHNlbmRpbmcgdG8gYXZvaWQgbWVzc2FnZSBzaXplIGxpbWl0cy4gU2VlIGIvNjIxMTU2NjAuCiAgICBsZXQgcG9zaXRpb24gPSAwOwogICAgZG8gewogICAgICBjb25zdCBsZW5ndGggPSBNYXRoLm1pbihmaWxlRGF0YS5ieXRlTGVuZ3RoIC0gcG9zaXRpb24sIE1BWF9QQVlMT0FEX1NJWkUpOwogICAgICBjb25zdCBjaHVuayA9IG5ldyBVaW50OEFycmF5KGZpbGVEYXRhLCBwb3NpdGlvbiwgbGVuZ3RoKTsKICAgICAgcG9zaXRpb24gKz0gbGVuZ3RoOwoKICAgICAgY29uc3QgYmFzZTY0ID0gYnRvYShTdHJpbmcuZnJvbUNoYXJDb2RlLmFwcGx5KG51bGwsIGNodW5rKSk7CiAgICAgIHlpZWxkIHsKICAgICAgICByZXNwb25zZTogewogICAgICAgICAgYWN0aW9uOiAnYXBwZW5kJywKICAgICAgICAgIGZpbGU6IGZpbGUubmFtZSwKICAgICAgICAgIGRhdGE6IGJhc2U2NCwKICAgICAgICB9LAogICAgICB9OwoKICAgICAgbGV0IHBlcmNlbnREb25lID0gZmlsZURhdGEuYnl0ZUxlbmd0aCA9PT0gMCA/CiAgICAgICAgICAxMDAgOgogICAgICAgICAgTWF0aC5yb3VuZCgocG9zaXRpb24gLyBmaWxlRGF0YS5ieXRlTGVuZ3RoKSAqIDEwMCk7CiAgICAgIHBlcmNlbnQudGV4dENvbnRlbnQgPSBgJHtwZXJjZW50RG9uZX0lIGRvbmVgOwoKICAgIH0gd2hpbGUgKHBvc2l0aW9uIDwgZmlsZURhdGEuYnl0ZUxlbmd0aCk7CiAgfQoKICAvLyBBbGwgZG9uZS4KICB5aWVsZCB7CiAgICByZXNwb25zZTogewogICAgICBhY3Rpb246ICdjb21wbGV0ZScsCiAgICB9CiAgfTsKfQoKc2NvcGUuZ29vZ2xlID0gc2NvcGUuZ29vZ2xlIHx8IHt9OwpzY29wZS5nb29nbGUuY29sYWIgPSBzY29wZS5nb29nbGUuY29sYWIgfHwge307CnNjb3BlLmdvb2dsZS5jb2xhYi5fZmlsZXMgPSB7CiAgX3VwbG9hZEZpbGVzLAogIF91cGxvYWRGaWxlc0NvbnRpbnVlLAp9Owp9KShzZWxmKTsK",
              "ok": true,
              "headers": [
                [
                  "content-type",
                  "application/javascript"
                ]
              ],
              "status": 200,
              "status_text": ""
            }
          },
          "base_uri": "https://localhost:8080/",
          "height": 91
        },
        "id": "7173da84",
        "outputId": "6186fa43-71aa-4c16-85ac-338f0a4950c0"
      },
      "outputs": [
        {
          "output_type": "display_data",
          "data": {
            "text/plain": [
              "<IPython.core.display.HTML object>"
            ],
            "text/html": [
              "\n",
              "     <input type=\"file\" id=\"files-552e6574-34eb-4d97-b629-a6051876e80c\" name=\"files[]\" multiple disabled\n",
              "        style=\"border:none\" />\n",
              "     <output id=\"result-552e6574-34eb-4d97-b629-a6051876e80c\">\n",
              "      Upload widget is only available when the cell has been executed in the\n",
              "      current browser session. Please rerun this cell to enable.\n",
              "      </output>\n",
              "      <script src=\"/nbextensions/google.colab/files.js\"></script> "
            ]
          },
          "metadata": {}
        },
        {
          "output_type": "stream",
          "name": "stdout",
          "text": [
            "Saving Features_part1.xlsx to Features_part1.xlsx\n"
          ]
        }
      ],
      "source": [
        "########################################\n",
        "# importing packages\n",
        "########################################\n",
        "import numpy             as np                   # mathematical essentials\n",
        "import pandas            as pd                   # data science essentials\n",
        "import matplotlib.pyplot as plt                  # fundamental data visualization\n",
        "import seaborn           as sns                  # enhanced visualization\n",
        "from sklearn.preprocessing import StandardScaler # standard scaler\n",
        "from sklearn.decomposition import PCA            # pca\n",
        "\n",
        "\n",
        "########################################\n",
        "# loading data and setting display options\n",
        "########################################\n",
        "# loading data\n",
        "from google.colab import files\n",
        "uploaded = files.upload()\n",
        "\n",
        "housing = pd.read_excel('Features_part1.xlsx')"
      ]
    },
    {
      "cell_type": "code",
      "source": [
        "housing = housing.dropna()"
      ],
      "metadata": {
        "id": "SSgJ8wr4G1w3"
      },
      "id": "SSgJ8wr4G1w3",
      "execution_count": 2,
      "outputs": []
    },
    {
      "cell_type": "markdown",
      "id": "fe939586",
      "metadata": {
        "deletable": false,
        "editable": false,
        "run_control": {
          "frozen": true
        },
        "id": "fe939586"
      },
      "source": [
        "<hr style=\"height:.9px;border:none;color:#333;background-color:#333;\" /><br>\n",
        "\n",
        "<strong>User-Defined Functions</strong><br>\n",
        "Run the following code to load the user-defined functions used throughout this Notebook."
      ]
    },
    {
      "cell_type": "code",
      "execution_count": 3,
      "id": "1fa902c2",
      "metadata": {
        "deletable": false,
        "editable": false,
        "id": "1fa902c2"
      },
      "outputs": [],
      "source": [
        "########################################\n",
        "# scree_plot\n",
        "########################################\n",
        "def scree_plot(pca_object, export = False):\n",
        "    \"\"\"\n",
        "    Visualizes a scree plot from a pca object.\n",
        "    \n",
        "    PARAMETERS\n",
        "    ----------\n",
        "    pca_object | A fitted pca object\n",
        "    export     | Set to True if you would like to save the scree plot to the\n",
        "               | current working directory (default: False)\n",
        "    \"\"\"\n",
        "    # building a scree plot\n",
        "\n",
        "    # setting plot size\n",
        "    fig, ax = plt.subplots(figsize=(10, 8))\n",
        "    features = range(pca_object.n_components_)\n",
        "\n",
        "\n",
        "    # developing a scree plot\n",
        "    plt.plot(features,\n",
        "             pca_object.explained_variance_ratio_,\n",
        "             linewidth = 2,\n",
        "             marker = 'o',\n",
        "             markersize = 10,\n",
        "             markeredgecolor = 'black',\n",
        "             markerfacecolor = 'grey')\n",
        "\n",
        "\n",
        "    # setting more plot options\n",
        "    plt.title('Scree Plot')\n",
        "    plt.xlabel('PCA feature')\n",
        "    plt.ylabel('Explained Variance')\n",
        "    plt.xticks(features)\n",
        "\n",
        "    if export == True:\n",
        "    \n",
        "        # exporting the plot\n",
        "        plt.savefig('./__analysis_images/top_customers_correlation_scree_plot.png')\n",
        "        \n",
        "    # displaying the plot\n",
        "    plt.show()\n",
        "\n",
        "\n",
        "########################################\n",
        "# unsupervised_scaler\n",
        "########################################\n",
        "def scaler(df):\n",
        "    \"\"\"\n",
        "    Standardizes a dataset (mean = 0, variance = 1). Returns a new DataFrame.\n",
        "    Requires sklearn.preprocessing.StandardScaler()\n",
        "    \n",
        "    PARAMETERS\n",
        "    ----------\n",
        "    df     | DataFrame to be used for scaling\n",
        "    \"\"\"\n",
        "\n",
        "    # INSTANTIATING a StandardScaler() object\n",
        "    scaler = StandardScaler(copy = True)\n",
        "\n",
        "\n",
        "    # FITTING the scaler with the data\n",
        "    scaler.fit(df)\n",
        "\n",
        "\n",
        "    # TRANSFORMING our data after fit\n",
        "    x_scaled = scaler.transform(df)\n",
        "\n",
        "    \n",
        "    # converting scaled data into a DataFrame\n",
        "    new_df = pd.DataFrame(x_scaled)\n",
        "\n",
        "\n",
        "    # reattaching column names\n",
        "    new_df.columns = df.columns\n",
        "    \n",
        "    return new_df"
      ]
    },
    {
      "cell_type": "markdown",
      "id": "9daaf31f",
      "metadata": {
        "deletable": false,
        "editable": false,
        "run_control": {
          "frozen": true
        },
        "id": "9daaf31f"
      },
      "source": [
        "<hr style=\"height:.9px;border:none;color:#333;background-color:#333;\" />\n",
        "<h3>Step 2</h3>\n",
        "Create a Subset of the Continuous X-variables"
      ]
    },
    {
      "cell_type": "code",
      "source": [
        "housing.describe().columns"
      ],
      "metadata": {
        "colab": {
          "base_uri": "https://localhost:8080/"
        },
        "id": "FlCi49qPJFsw",
        "outputId": "53dd133a-5ac3-4560-c8cb-e6572acea3e3"
      },
      "id": "FlCi49qPJFsw",
      "execution_count": 12,
      "outputs": [
        {
          "output_type": "execute_result",
          "data": {
            "text/plain": [
              "Index(['Order', 'Lot_Area', 'Overall_Qual', 'Overall_Cond', 'Mas_Vnr_Area',\n",
              "       'Total_Bsmt_SF', 'First_Flr_SF', 'Second_Flr_SF', 'Gr_Liv_Area',\n",
              "       'Full_Bath', 'Half_Bath', 'Kitchen_AbvGr', 'TotRms_AbvGr', 'Fireplaces',\n",
              "       'Garage_Cars', 'Garage_Area', 'Porch_Area', 'Pool_Area', 'Sale_Price',\n",
              "       'log_Garage_Area', 'log_Sale_Price', 'log_Total_Bsmt_SF',\n",
              "       'median_First_Flr_SF', 'above the median_First_Flr',\n",
              "       'below the median_First_Flr', 'above the median_Second_Flr',\n",
              "       'below the median_Second_Flr', 'cat_Porch_Area',\n",
              "       'above_the_median_First_Flr', 'below_the_median_First_Flr',\n",
              "       'above_the_median_Second_Flr', 'below_the_median_Second_Flr',\n",
              "       'has_Second_Flr', 'has_Garage', 'has_Mas_Vnr', 'has_Porch',\n",
              "       'Total_Bath'],\n",
              "      dtype='object')"
            ]
          },
          "metadata": {},
          "execution_count": 12
        }
      ]
    },
    {
      "cell_type": "code",
      "source": [
        "housing.info()"
      ],
      "metadata": {
        "colab": {
          "base_uri": "https://localhost:8080/"
        },
        "id": "RVvgmC364hjM",
        "outputId": "adc9750a-c471-4591-e71c-1115b5b8e83c"
      },
      "id": "RVvgmC364hjM",
      "execution_count": 7,
      "outputs": [
        {
          "output_type": "stream",
          "name": "stdout",
          "text": [
            "<class 'pandas.core.frame.DataFrame'>\n",
            "Int64Index: 2905 entries, 0 to 2929\n",
            "Data columns (total 40 columns):\n",
            " #   Column                       Non-Null Count  Dtype  \n",
            "---  ------                       --------------  -----  \n",
            " 0   Order                        2905 non-null   int64  \n",
            " 1   Lot_Area                     2905 non-null   int64  \n",
            " 2   Street                       2905 non-null   object \n",
            " 3   Lot_Config                   2905 non-null   object \n",
            " 4   Neighborhood                 2905 non-null   object \n",
            " 5   Overall_Qual                 2905 non-null   int64  \n",
            " 6   Overall_Cond                 2905 non-null   int64  \n",
            " 7   Mas_Vnr_Area                 2905 non-null   float64\n",
            " 8   Total_Bsmt_SF                2905 non-null   float64\n",
            " 9   First_Flr_SF                 2905 non-null   int64  \n",
            " 10  Second_Flr_SF                2905 non-null   int64  \n",
            " 11  Gr_Liv_Area                  2905 non-null   int64  \n",
            " 12  Full_Bath                    2905 non-null   int64  \n",
            " 13  Half_Bath                    2905 non-null   int64  \n",
            " 14  Kitchen_AbvGr                2905 non-null   int64  \n",
            " 15  TotRms_AbvGr                 2905 non-null   int64  \n",
            " 16  Fireplaces                   2905 non-null   int64  \n",
            " 17  Garage_Cars                  2905 non-null   float64\n",
            " 18  Garage_Area                  2905 non-null   float64\n",
            " 19  Porch_Area                   2905 non-null   int64  \n",
            " 20  Pool_Area                    2905 non-null   int64  \n",
            " 21  Sale_Price                   2905 non-null   int64  \n",
            " 22  log_Garage_Area              2905 non-null   float64\n",
            " 23  log_Sale_Price               2905 non-null   float64\n",
            " 24  log_Total_Bsmt_SF            2905 non-null   float64\n",
            " 25  median_First_Flr_SF          2905 non-null   int64  \n",
            " 26  above the median_First_Flr   2905 non-null   int64  \n",
            " 27  below the median_First_Flr   2905 non-null   int64  \n",
            " 28  above the median_Second_Flr  2905 non-null   int64  \n",
            " 29  below the median_Second_Flr  2905 non-null   int64  \n",
            " 30  cat_Porch_Area               2905 non-null   int64  \n",
            " 31  above_the_median_First_Flr   2905 non-null   int64  \n",
            " 32  below_the_median_First_Flr   2905 non-null   int64  \n",
            " 33  above_the_median_Second_Flr  2905 non-null   int64  \n",
            " 34  below_the_median_Second_Flr  2905 non-null   int64  \n",
            " 35  has_Second_Flr               2905 non-null   int64  \n",
            " 36  has_Garage                   2905 non-null   int64  \n",
            " 37  has_Mas_Vnr                  2905 non-null   int64  \n",
            " 38  has_Porch                    2905 non-null   int64  \n",
            " 39  Total_Bath                   2905 non-null   float64\n",
            "dtypes: float64(8), int64(29), object(3)\n",
            "memory usage: 995.0+ KB\n"
          ]
        }
      ]
    },
    {
      "cell_type": "code",
      "source": [
        "housing.isnull().sum(axis=0)"
      ],
      "metadata": {
        "colab": {
          "base_uri": "https://localhost:8080/"
        },
        "id": "5X4VSmG-MZdR",
        "outputId": "b6761fd2-5cfb-4a68-a83d-9c594e9c372a"
      },
      "id": "5X4VSmG-MZdR",
      "execution_count": 18,
      "outputs": [
        {
          "output_type": "execute_result",
          "data": {
            "text/plain": [
              "Order                          0\n",
              "Lot_Area                       0\n",
              "Street                         0\n",
              "Lot_Config                     0\n",
              "Neighborhood                   0\n",
              "Overall_Qual                   0\n",
              "Overall_Cond                   0\n",
              "Mas_Vnr_Area                   0\n",
              "Total_Bsmt_SF                  0\n",
              "First_Flr_SF                   0\n",
              "Second_Flr_SF                  0\n",
              "Gr_Liv_Area                    0\n",
              "Full_Bath                      0\n",
              "Half_Bath                      0\n",
              "Kitchen_AbvGr                  0\n",
              "TotRms_AbvGr                   0\n",
              "Fireplaces                     0\n",
              "Garage_Cars                    0\n",
              "Garage_Area                    0\n",
              "Porch_Area                     0\n",
              "Pool_Area                      0\n",
              "Sale_Price                     0\n",
              "log_Garage_Area                0\n",
              "log_Sale_Price                 0\n",
              "log_Total_Bsmt_SF              0\n",
              "median_First_Flr_SF            0\n",
              "above the median_First_Flr     0\n",
              "below the median_First_Flr     0\n",
              "above the median_Second_Flr    0\n",
              "below the median_Second_Flr    0\n",
              "cat_Porch_Area                 0\n",
              "above_the_median_First_Flr     0\n",
              "below_the_median_First_Flr     0\n",
              "above_the_median_Second_Flr    0\n",
              "below_the_median_Second_Flr    0\n",
              "has_Second_Flr                 0\n",
              "has_Garage                     0\n",
              "has_Mas_Vnr                    0\n",
              "has_Porch                      0\n",
              "Total_Bath                     0\n",
              "dtype: int64"
            ]
          },
          "metadata": {},
          "execution_count": 18
        }
      ]
    },
    {
      "cell_type": "code",
      "execution_count": 20,
      "id": "4bf81991",
      "metadata": {
        "id": "4bf81991"
      },
      "outputs": [],
      "source": [
        "# Subset of the Continuous X-variables\n",
        "\n",
        "housing_subset = housing[[ 'Lot_Area',  'Mas_Vnr_Area',\n",
        "       'Total_Bsmt_SF', 'First_Flr_SF', 'Second_Flr_SF', 'Gr_Liv_Area',\n",
        "         'Garage_Area', 'Porch_Area',\n",
        "       'median_First_Flr_SF' ]]\n",
        "\n"
      ]
    },
    {
      "cell_type": "markdown",
      "id": "e30f9ef5",
      "metadata": {
        "deletable": false,
        "editable": false,
        "run_control": {
          "frozen": true
        },
        "id": "e30f9ef5"
      },
      "source": [
        "<hr style=\"height:.9px;border:none;color:#333;background-color:#333;\" />\n",
        "<h3>Step 3</h3><br>\n",
        "Standardize the data using StandardScaler() or the user-defined function (scaler()) presented in class and reattach the feature names from the original dataset."
      ]
    },
    {
      "cell_type": "code",
      "execution_count": 21,
      "id": "c6c074ee",
      "metadata": {
        "id": "c6c074ee"
      },
      "outputs": [],
      "source": [
        "\n",
        "# scaling (normalizing) variables before correlation analysis\n",
        "housing_scaled = scaler(df = housing_subset)\n",
        "\n",
        "\n"
      ]
    },
    {
      "cell_type": "markdown",
      "id": "984ec44b",
      "metadata": {
        "deletable": false,
        "editable": false,
        "run_control": {
          "frozen": true
        },
        "id": "984ec44b"
      },
      "source": [
        "<hr style=\"height:.9px;border:none;color:#333;background-color:#333;\" />\n",
        "<h3>Step 4</h3><br>\n",
        "Run principal component analysis (PCA) and present its resulting factor loadings, rounded to two decimal places."
      ]
    },
    {
      "cell_type": "code",
      "execution_count": 22,
      "id": "e3aa9f00",
      "metadata": {
        "colab": {
          "base_uri": "https://localhost:8080/",
          "height": 423
        },
        "id": "e3aa9f00",
        "outputId": "24f7dd1c-6dc0-4ec7-cfa5-da6917e7bacb"
      },
      "outputs": [
        {
          "output_type": "execute_result",
          "data": {
            "text/plain": [
              "         0     1     2     3     4     5     6     7    8\n",
              "0     1.61 -0.93  2.21  1.01  0.51  0.21  0.71 -0.01  0.0\n",
              "1    -0.61 -0.66  0.50 -0.53 -0.11  1.81 -0.14  0.01 -0.0\n",
              "2     0.52 -0.89  1.09 -1.09  0.87 -0.51 -0.18 -0.01 -0.0\n",
              "3     2.21 -1.93 -0.33  0.72 -1.91 -1.61 -0.11 -0.02 -0.0\n",
              "4    -0.14  1.08  0.76 -0.05 -0.22  0.19 -0.29 -0.01  0.0\n",
              "...    ...   ...   ...   ...   ...   ...   ...   ...  ...\n",
              "2900 -0.89 -0.88 -0.10 -0.10 -0.42  0.89 -0.16  0.00 -0.0\n",
              "2901 -1.32 -0.74  0.22 -0.25  0.01  0.76 -0.12  0.00 -0.0\n",
              "2902 -2.06 -0.86  0.64  0.09  0.64 -1.25 -0.18 -0.01  0.0\n",
              "2903  0.30 -1.07  0.51 -0.75 -0.27 -0.41 -0.15 -0.01 -0.0\n",
              "2904  0.74  1.84 -0.13 -0.06 -0.52  0.39 -0.23 -0.01  0.0\n",
              "\n",
              "[2905 rows x 9 columns]"
            ],
            "text/html": [
              "\n",
              "  <div id=\"df-82df0846-074e-438a-a3b5-b0feef3a9711\">\n",
              "    <div class=\"colab-df-container\">\n",
              "      <div>\n",
              "<style scoped>\n",
              "    .dataframe tbody tr th:only-of-type {\n",
              "        vertical-align: middle;\n",
              "    }\n",
              "\n",
              "    .dataframe tbody tr th {\n",
              "        vertical-align: top;\n",
              "    }\n",
              "\n",
              "    .dataframe thead th {\n",
              "        text-align: right;\n",
              "    }\n",
              "</style>\n",
              "<table border=\"1\" class=\"dataframe\">\n",
              "  <thead>\n",
              "    <tr style=\"text-align: right;\">\n",
              "      <th></th>\n",
              "      <th>0</th>\n",
              "      <th>1</th>\n",
              "      <th>2</th>\n",
              "      <th>3</th>\n",
              "      <th>4</th>\n",
              "      <th>5</th>\n",
              "      <th>6</th>\n",
              "      <th>7</th>\n",
              "      <th>8</th>\n",
              "    </tr>\n",
              "  </thead>\n",
              "  <tbody>\n",
              "    <tr>\n",
              "      <th>0</th>\n",
              "      <td>1.61</td>\n",
              "      <td>-0.93</td>\n",
              "      <td>2.21</td>\n",
              "      <td>1.01</td>\n",
              "      <td>0.51</td>\n",
              "      <td>0.21</td>\n",
              "      <td>0.71</td>\n",
              "      <td>-0.01</td>\n",
              "      <td>0.0</td>\n",
              "    </tr>\n",
              "    <tr>\n",
              "      <th>1</th>\n",
              "      <td>-0.61</td>\n",
              "      <td>-0.66</td>\n",
              "      <td>0.50</td>\n",
              "      <td>-0.53</td>\n",
              "      <td>-0.11</td>\n",
              "      <td>1.81</td>\n",
              "      <td>-0.14</td>\n",
              "      <td>0.01</td>\n",
              "      <td>-0.0</td>\n",
              "    </tr>\n",
              "    <tr>\n",
              "      <th>2</th>\n",
              "      <td>0.52</td>\n",
              "      <td>-0.89</td>\n",
              "      <td>1.09</td>\n",
              "      <td>-1.09</td>\n",
              "      <td>0.87</td>\n",
              "      <td>-0.51</td>\n",
              "      <td>-0.18</td>\n",
              "      <td>-0.01</td>\n",
              "      <td>-0.0</td>\n",
              "    </tr>\n",
              "    <tr>\n",
              "      <th>3</th>\n",
              "      <td>2.21</td>\n",
              "      <td>-1.93</td>\n",
              "      <td>-0.33</td>\n",
              "      <td>0.72</td>\n",
              "      <td>-1.91</td>\n",
              "      <td>-1.61</td>\n",
              "      <td>-0.11</td>\n",
              "      <td>-0.02</td>\n",
              "      <td>-0.0</td>\n",
              "    </tr>\n",
              "    <tr>\n",
              "      <th>4</th>\n",
              "      <td>-0.14</td>\n",
              "      <td>1.08</td>\n",
              "      <td>0.76</td>\n",
              "      <td>-0.05</td>\n",
              "      <td>-0.22</td>\n",
              "      <td>0.19</td>\n",
              "      <td>-0.29</td>\n",
              "      <td>-0.01</td>\n",
              "      <td>0.0</td>\n",
              "    </tr>\n",
              "    <tr>\n",
              "      <th>...</th>\n",
              "      <td>...</td>\n",
              "      <td>...</td>\n",
              "      <td>...</td>\n",
              "      <td>...</td>\n",
              "      <td>...</td>\n",
              "      <td>...</td>\n",
              "      <td>...</td>\n",
              "      <td>...</td>\n",
              "      <td>...</td>\n",
              "    </tr>\n",
              "    <tr>\n",
              "      <th>2900</th>\n",
              "      <td>-0.89</td>\n",
              "      <td>-0.88</td>\n",
              "      <td>-0.10</td>\n",
              "      <td>-0.10</td>\n",
              "      <td>-0.42</td>\n",
              "      <td>0.89</td>\n",
              "      <td>-0.16</td>\n",
              "      <td>0.00</td>\n",
              "      <td>-0.0</td>\n",
              "    </tr>\n",
              "    <tr>\n",
              "      <th>2901</th>\n",
              "      <td>-1.32</td>\n",
              "      <td>-0.74</td>\n",
              "      <td>0.22</td>\n",
              "      <td>-0.25</td>\n",
              "      <td>0.01</td>\n",
              "      <td>0.76</td>\n",
              "      <td>-0.12</td>\n",
              "      <td>0.00</td>\n",
              "      <td>-0.0</td>\n",
              "    </tr>\n",
              "    <tr>\n",
              "      <th>2902</th>\n",
              "      <td>-2.06</td>\n",
              "      <td>-0.86</td>\n",
              "      <td>0.64</td>\n",
              "      <td>0.09</td>\n",
              "      <td>0.64</td>\n",
              "      <td>-1.25</td>\n",
              "      <td>-0.18</td>\n",
              "      <td>-0.01</td>\n",
              "      <td>0.0</td>\n",
              "    </tr>\n",
              "    <tr>\n",
              "      <th>2903</th>\n",
              "      <td>0.30</td>\n",
              "      <td>-1.07</td>\n",
              "      <td>0.51</td>\n",
              "      <td>-0.75</td>\n",
              "      <td>-0.27</td>\n",
              "      <td>-0.41</td>\n",
              "      <td>-0.15</td>\n",
              "      <td>-0.01</td>\n",
              "      <td>-0.0</td>\n",
              "    </tr>\n",
              "    <tr>\n",
              "      <th>2904</th>\n",
              "      <td>0.74</td>\n",
              "      <td>1.84</td>\n",
              "      <td>-0.13</td>\n",
              "      <td>-0.06</td>\n",
              "      <td>-0.52</td>\n",
              "      <td>0.39</td>\n",
              "      <td>-0.23</td>\n",
              "      <td>-0.01</td>\n",
              "      <td>0.0</td>\n",
              "    </tr>\n",
              "  </tbody>\n",
              "</table>\n",
              "<p>2905 rows × 9 columns</p>\n",
              "</div>\n",
              "      <button class=\"colab-df-convert\" onclick=\"convertToInteractive('df-82df0846-074e-438a-a3b5-b0feef3a9711')\"\n",
              "              title=\"Convert this dataframe to an interactive table.\"\n",
              "              style=\"display:none;\">\n",
              "        \n",
              "  <svg xmlns=\"http://www.w3.org/2000/svg\" height=\"24px\"viewBox=\"0 0 24 24\"\n",
              "       width=\"24px\">\n",
              "    <path d=\"M0 0h24v24H0V0z\" fill=\"none\"/>\n",
              "    <path d=\"M18.56 5.44l.94 2.06.94-2.06 2.06-.94-2.06-.94-.94-2.06-.94 2.06-2.06.94zm-11 1L8.5 8.5l.94-2.06 2.06-.94-2.06-.94L8.5 2.5l-.94 2.06-2.06.94zm10 10l.94 2.06.94-2.06 2.06-.94-2.06-.94-.94-2.06-.94 2.06-2.06.94z\"/><path d=\"M17.41 7.96l-1.37-1.37c-.4-.4-.92-.59-1.43-.59-.52 0-1.04.2-1.43.59L10.3 9.45l-7.72 7.72c-.78.78-.78 2.05 0 2.83L4 21.41c.39.39.9.59 1.41.59.51 0 1.02-.2 1.41-.59l7.78-7.78 2.81-2.81c.8-.78.8-2.07 0-2.86zM5.41 20L4 18.59l7.72-7.72 1.47 1.35L5.41 20z\"/>\n",
              "  </svg>\n",
              "      </button>\n",
              "      \n",
              "  <style>\n",
              "    .colab-df-container {\n",
              "      display:flex;\n",
              "      flex-wrap:wrap;\n",
              "      gap: 12px;\n",
              "    }\n",
              "\n",
              "    .colab-df-convert {\n",
              "      background-color: #E8F0FE;\n",
              "      border: none;\n",
              "      border-radius: 50%;\n",
              "      cursor: pointer;\n",
              "      display: none;\n",
              "      fill: #1967D2;\n",
              "      height: 32px;\n",
              "      padding: 0 0 0 0;\n",
              "      width: 32px;\n",
              "    }\n",
              "\n",
              "    .colab-df-convert:hover {\n",
              "      background-color: #E2EBFA;\n",
              "      box-shadow: 0px 1px 2px rgba(60, 64, 67, 0.3), 0px 1px 3px 1px rgba(60, 64, 67, 0.15);\n",
              "      fill: #174EA6;\n",
              "    }\n",
              "\n",
              "    [theme=dark] .colab-df-convert {\n",
              "      background-color: #3B4455;\n",
              "      fill: #D2E3FC;\n",
              "    }\n",
              "\n",
              "    [theme=dark] .colab-df-convert:hover {\n",
              "      background-color: #434B5C;\n",
              "      box-shadow: 0px 1px 3px 1px rgba(0, 0, 0, 0.15);\n",
              "      filter: drop-shadow(0px 1px 2px rgba(0, 0, 0, 0.3));\n",
              "      fill: #FFFFFF;\n",
              "    }\n",
              "  </style>\n",
              "\n",
              "      <script>\n",
              "        const buttonEl =\n",
              "          document.querySelector('#df-82df0846-074e-438a-a3b5-b0feef3a9711 button.colab-df-convert');\n",
              "        buttonEl.style.display =\n",
              "          google.colab.kernel.accessAllowed ? 'block' : 'none';\n",
              "\n",
              "        async function convertToInteractive(key) {\n",
              "          const element = document.querySelector('#df-82df0846-074e-438a-a3b5-b0feef3a9711');\n",
              "          const dataTable =\n",
              "            await google.colab.kernel.invokeFunction('convertToInteractive',\n",
              "                                                     [key], {});\n",
              "          if (!dataTable) return;\n",
              "\n",
              "          const docLinkHtml = 'Like what you see? Visit the ' +\n",
              "            '<a target=\"_blank\" href=https://colab.research.google.com/notebooks/data_table.ipynb>data table notebook</a>'\n",
              "            + ' to learn more about interactive tables.';\n",
              "          element.innerHTML = '';\n",
              "          dataTable['output_type'] = 'display_data';\n",
              "          await google.colab.output.renderOutput(dataTable, element);\n",
              "          const docLink = document.createElement('div');\n",
              "          docLink.innerHTML = docLinkHtml;\n",
              "          element.appendChild(docLink);\n",
              "        }\n",
              "      </script>\n",
              "    </div>\n",
              "  </div>\n",
              "  "
            ]
          },
          "metadata": {},
          "execution_count": 22
        }
      ],
      "source": [
        "# INSTANTIATING a PCA object with no limit to principal components\n",
        "pca = PCA(n_components = None,\n",
        "            random_state = 219)\n",
        "\n",
        "\n",
        "# FITTING and TRANSFORMING the scaled data\n",
        "housing_pca = pca.fit_transform(housing_scaled)\n",
        "\n",
        "# Resulting factor loadings, rounded to two decimal places\n",
        "pd.DataFrame(housing_pca).round(decimals=2)\n",
        "\n",
        "\n"
      ]
    },
    {
      "cell_type": "markdown",
      "id": "f095cc33",
      "metadata": {
        "deletable": false,
        "editable": false,
        "run_control": {
          "frozen": true
        },
        "id": "f095cc33"
      },
      "source": [
        "<hr style=\"height:.9px;border:none;color:#333;background-color:#333;\" />\n",
        "<h3>Step 5</h3><br>\n",
        "Develop a scree plot and determine how many principal components you would like to retain."
      ]
    },
    {
      "cell_type": "code",
      "execution_count": 24,
      "id": "d92b46eb",
      "metadata": {
        "colab": {
          "base_uri": "https://localhost:8080/",
          "height": 513
        },
        "id": "d92b46eb",
        "outputId": "390401f5-8b3e-4373-cbdd-5b0faa2cd30a"
      },
      "outputs": [
        {
          "output_type": "display_data",
          "data": {
            "text/plain": [
              "<Figure size 720x576 with 1 Axes>"
            ],
            "image/png": "[encoded data removed]"
          },
          "metadata": {
            "needs_background": "light"
          }
        }
      ],
      "source": [
        "# calling the scree_plot function\n",
        "scree_plot(pca_object = pca)\n",
        "\n",
        "\n",
        "\n"
      ]
    },
    {
      "cell_type": "code",
      "source": [
        "# transposing pca components\n",
        "factor_loadings_df = pd.DataFrame(np.transpose(pca.components_.round(decimals = 2)))\n",
        "\n",
        "\n",
        "# naming rows as original features\n",
        "factor_loadings_df = factor_loadings_df.set_index(housing_scaled.columns)\n",
        "\n",
        "\n",
        "# checking the result\n",
        "print(factor_loadings_df)\n",
        "\n"
      ],
      "metadata": {
        "colab": {
          "base_uri": "https://localhost:8080/"
        },
        "id": "9gqJClHmN88O",
        "outputId": "679d520e-f5c2-4a98-b052-170ae2a37506"
      },
      "id": "9gqJClHmN88O",
      "execution_count": 25,
      "outputs": [
        {
          "output_type": "stream",
          "name": "stdout",
          "text": [
            "                        0     1     2     3     4     5     6     7    8\n",
            "Lot_Area             0.25 -0.04  0.75  0.55  0.22  0.13 -0.07  0.00  0.0\n",
            "Mas_Vnr_Area         0.33  0.02 -0.49  0.21  0.78  0.05  0.03  0.00  0.0\n",
            "Total_Bsmt_SF        0.43 -0.34 -0.09 -0.07 -0.17 -0.25 -0.77  0.00  0.0\n",
            "First_Flr_SF         0.46 -0.33 -0.00 -0.00 -0.18 -0.31  0.54 -0.51  0.0\n",
            "Second_Flr_SF        0.10  0.77 -0.04  0.10 -0.10 -0.10 -0.23 -0.56  0.0\n",
            "Gr_Liv_Area          0.44  0.40 -0.03  0.08 -0.23 -0.33  0.23  0.65  0.0\n",
            "Garage_Area          0.39  0.01 -0.18  0.01 -0.34  0.83  0.03  0.01  0.0\n",
            "Porch_Area           0.28  0.15  0.39 -0.80  0.32  0.09  0.02 -0.00  0.0\n",
            "median_First_Flr_SF  0.00 -0.00  0.00  0.00 -0.00 -0.00 -0.00  0.00  1.0\n"
          ]
        }
      ]
    },
    {
      "cell_type": "markdown",
      "id": "bedf81be",
      "metadata": {
        "deletable": false,
        "editable": false,
        "run_control": {
          "frozen": true
        },
        "id": "bedf81be"
      },
      "source": [
        "<hr style=\"height:.9px;border:none;color:#333;background-color:#333;\" />\n",
        "<h3>Step 6</h3><br>\n",
        "Run PCA again, limiting the number of components based on the scree plot. Present its resulting factor loadings, rounded to two decimal places."
      ]
    },
    {
      "cell_type": "code",
      "execution_count": 27,
      "id": "b153ad11",
      "metadata": {
        "colab": {
          "base_uri": "https://localhost:8080/",
          "height": 395
        },
        "id": "b153ad11",
        "outputId": "ab7832ec-aa32-4bef-9df8-bf6b0e6f935c"
      },
      "outputs": [
        {
          "output_type": "execute_result",
          "data": {
            "text/plain": [
              "                     Looking_for_space  Bigger_living_spaces  \\\n",
              "Lot_Area                          0.25                 -0.04   \n",
              "Mas_Vnr_Area                      0.33                  0.02   \n",
              "Total_Bsmt_SF                     0.43                 -0.34   \n",
              "First_Flr_SF                      0.46                 -0.33   \n",
              "Second_Flr_SF                     0.10                  0.77   \n",
              "Gr_Liv_Area                       0.44                  0.40   \n",
              "Garage_Area                       0.39                  0.01   \n",
              "Porch_Area                        0.28                  0.15   \n",
              "median_First_Flr_SF               0.00                 -0.00   \n",
              "\n",
              "                     Looking_for_big_terrains    NA    NA    NA    NA    NA  \\\n",
              "Lot_Area                                 0.75  0.55  0.22  0.13 -0.07  0.00   \n",
              "Mas_Vnr_Area                            -0.49  0.21  0.78  0.05  0.03  0.00   \n",
              "Total_Bsmt_SF                           -0.09 -0.07 -0.17 -0.25 -0.77  0.00   \n",
              "First_Flr_SF                            -0.00 -0.00 -0.18 -0.31  0.54 -0.51   \n",
              "Second_Flr_SF                           -0.04  0.10 -0.10 -0.10 -0.23 -0.56   \n",
              "Gr_Liv_Area                             -0.03  0.08 -0.23 -0.33  0.23  0.65   \n",
              "Garage_Area                             -0.18  0.01 -0.34  0.83  0.03  0.01   \n",
              "Porch_Area                               0.39 -0.80  0.32  0.09  0.02 -0.00   \n",
              "median_First_Flr_SF                      0.00  0.00 -0.00 -0.00 -0.00  0.00   \n",
              "\n",
              "                      NA  \n",
              "Lot_Area             0.0  \n",
              "Mas_Vnr_Area         0.0  \n",
              "Total_Bsmt_SF        0.0  \n",
              "First_Flr_SF         0.0  \n",
              "Second_Flr_SF        0.0  \n",
              "Gr_Liv_Area          0.0  \n",
              "Garage_Area          0.0  \n",
              "Porch_Area           0.0  \n",
              "median_First_Flr_SF  1.0  "
            ],
            "text/html": [
              "\n",
              "  <div id=\"df-2ab57121-21d5-42b2-b328-e6621a60e44e\">\n",
              "    <div class=\"colab-df-container\">\n",
              "      <div>\n",
              "<style scoped>\n",
              "    .dataframe tbody tr th:only-of-type {\n",
              "        vertical-align: middle;\n",
              "    }\n",
              "\n",
              "    .dataframe tbody tr th {\n",
              "        vertical-align: top;\n",
              "    }\n",
              "\n",
              "    .dataframe thead th {\n",
              "        text-align: right;\n",
              "    }\n",
              "</style>\n",
              "<table border=\"1\" class=\"dataframe\">\n",
              "  <thead>\n",
              "    <tr style=\"text-align: right;\">\n",
              "      <th></th>\n",
              "      <th>Looking_for_space</th>\n",
              "      <th>Bigger_living_spaces</th>\n",
              "      <th>Looking_for_big_terrains</th>\n",
              "      <th>NA</th>\n",
              "      <th>NA</th>\n",
              "      <th>NA</th>\n",
              "      <th>NA</th>\n",
              "      <th>NA</th>\n",
              "      <th>NA</th>\n",
              "    </tr>\n",
              "  </thead>\n",
              "  <tbody>\n",
              "    <tr>\n",
              "      <th>Lot_Area</th>\n",
              "      <td>0.25</td>\n",
              "      <td>-0.04</td>\n",
              "      <td>0.75</td>\n",
              "      <td>0.55</td>\n",
              "      <td>0.22</td>\n",
              "      <td>0.13</td>\n",
              "      <td>-0.07</td>\n",
              "      <td>0.00</td>\n",
              "      <td>0.0</td>\n",
              "    </tr>\n",
              "    <tr>\n",
              "      <th>Mas_Vnr_Area</th>\n",
              "      <td>0.33</td>\n",
              "      <td>0.02</td>\n",
              "      <td>-0.49</td>\n",
              "      <td>0.21</td>\n",
              "      <td>0.78</td>\n",
              "      <td>0.05</td>\n",
              "      <td>0.03</td>\n",
              "      <td>0.00</td>\n",
              "      <td>0.0</td>\n",
              "    </tr>\n",
              "    <tr>\n",
              "      <th>Total_Bsmt_SF</th>\n",
              "      <td>0.43</td>\n",
              "      <td>-0.34</td>\n",
              "      <td>-0.09</td>\n",
              "      <td>-0.07</td>\n",
              "      <td>-0.17</td>\n",
              "      <td>-0.25</td>\n",
              "      <td>-0.77</td>\n",
              "      <td>0.00</td>\n",
              "      <td>0.0</td>\n",
              "    </tr>\n",
              "    <tr>\n",
              "      <th>First_Flr_SF</th>\n",
              "      <td>0.46</td>\n",
              "      <td>-0.33</td>\n",
              "      <td>-0.00</td>\n",
              "      <td>-0.00</td>\n",
              "      <td>-0.18</td>\n",
              "      <td>-0.31</td>\n",
              "      <td>0.54</td>\n",
              "      <td>-0.51</td>\n",
              "      <td>0.0</td>\n",
              "    </tr>\n",
              "    <tr>\n",
              "      <th>Second_Flr_SF</th>\n",
              "      <td>0.10</td>\n",
              "      <td>0.77</td>\n",
              "      <td>-0.04</td>\n",
              "      <td>0.10</td>\n",
              "      <td>-0.10</td>\n",
              "      <td>-0.10</td>\n",
              "      <td>-0.23</td>\n",
              "      <td>-0.56</td>\n",
              "      <td>0.0</td>\n",
              "    </tr>\n",
              "    <tr>\n",
              "      <th>Gr_Liv_Area</th>\n",
              "      <td>0.44</td>\n",
              "      <td>0.40</td>\n",
              "      <td>-0.03</td>\n",
              "      <td>0.08</td>\n",
              "      <td>-0.23</td>\n",
              "      <td>-0.33</td>\n",
              "      <td>0.23</td>\n",
              "      <td>0.65</td>\n",
              "      <td>0.0</td>\n",
              "    </tr>\n",
              "    <tr>\n",
              "      <th>Garage_Area</th>\n",
              "      <td>0.39</td>\n",
              "      <td>0.01</td>\n",
              "      <td>-0.18</td>\n",
              "      <td>0.01</td>\n",
              "      <td>-0.34</td>\n",
              "      <td>0.83</td>\n",
              "      <td>0.03</td>\n",
              "      <td>0.01</td>\n",
              "      <td>0.0</td>\n",
              "    </tr>\n",
              "    <tr>\n",
              "      <th>Porch_Area</th>\n",
              "      <td>0.28</td>\n",
              "      <td>0.15</td>\n",
              "      <td>0.39</td>\n",
              "      <td>-0.80</td>\n",
              "      <td>0.32</td>\n",
              "      <td>0.09</td>\n",
              "      <td>0.02</td>\n",
              "      <td>-0.00</td>\n",
              "      <td>0.0</td>\n",
              "    </tr>\n",
              "    <tr>\n",
              "      <th>median_First_Flr_SF</th>\n",
              "      <td>0.00</td>\n",
              "      <td>-0.00</td>\n",
              "      <td>0.00</td>\n",
              "      <td>0.00</td>\n",
              "      <td>-0.00</td>\n",
              "      <td>-0.00</td>\n",
              "      <td>-0.00</td>\n",
              "      <td>0.00</td>\n",
              "      <td>1.0</td>\n",
              "    </tr>\n",
              "  </tbody>\n",
              "</table>\n",
              "</div>\n",
              "      <button class=\"colab-df-convert\" onclick=\"convertToInteractive('df-2ab57121-21d5-42b2-b328-e6621a60e44e')\"\n",
              "              title=\"Convert this dataframe to an interactive table.\"\n",
              "              style=\"display:none;\">\n",
              "        \n",
              "  <svg xmlns=\"http://www.w3.org/2000/svg\" height=\"24px\"viewBox=\"0 0 24 24\"\n",
              "       width=\"24px\">\n",
              "    <path d=\"M0 0h24v24H0V0z\" fill=\"none\"/>\n",
              "    <path d=\"M18.56 5.44l.94 2.06.94-2.06 2.06-.94-2.06-.94-.94-2.06-.94 2.06-2.06.94zm-11 1L8.5 8.5l.94-2.06 2.06-.94-2.06-.94L8.5 2.5l-.94 2.06-2.06.94zm10 10l.94 2.06.94-2.06 2.06-.94-2.06-.94-.94-2.06-.94 2.06-2.06.94z\"/><path d=\"M17.41 7.96l-1.37-1.37c-.4-.4-.92-.59-1.43-.59-.52 0-1.04.2-1.43.59L10.3 9.45l-7.72 7.72c-.78.78-.78 2.05 0 2.83L4 21.41c.39.39.9.59 1.41.59.51 0 1.02-.2 1.41-.59l7.78-7.78 2.81-2.81c.8-.78.8-2.07 0-2.86zM5.41 20L4 18.59l7.72-7.72 1.47 1.35L5.41 20z\"/>\n",
              "  </svg>\n",
              "      </button>\n",
              "      \n",
              "  <style>\n",
              "    .colab-df-container {\n",
              "      display:flex;\n",
              "      flex-wrap:wrap;\n",
              "      gap: 12px;\n",
              "    }\n",
              "\n",
              "    .colab-df-convert {\n",
              "      background-color: #E8F0FE;\n",
              "      border: none;\n",
              "      border-radius: 50%;\n",
              "      cursor: pointer;\n",
              "      display: none;\n",
              "      fill: #1967D2;\n",
              "      height: 32px;\n",
              "      padding: 0 0 0 0;\n",
              "      width: 32px;\n",
              "    }\n",
              "\n",
              "    .colab-df-convert:hover {\n",
              "      background-color: #E2EBFA;\n",
              "      box-shadow: 0px 1px 2px rgba(60, 64, 67, 0.3), 0px 1px 3px 1px rgba(60, 64, 67, 0.15);\n",
              "      fill: #174EA6;\n",
              "    }\n",
              "\n",
              "    [theme=dark] .colab-df-convert {\n",
              "      background-color: #3B4455;\n",
              "      fill: #D2E3FC;\n",
              "    }\n",
              "\n",
              "    [theme=dark] .colab-df-convert:hover {\n",
              "      background-color: #434B5C;\n",
              "      box-shadow: 0px 1px 3px 1px rgba(0, 0, 0, 0.15);\n",
              "      filter: drop-shadow(0px 1px 2px rgba(0, 0, 0, 0.3));\n",
              "      fill: #FFFFFF;\n",
              "    }\n",
              "  </style>\n",
              "\n",
              "      <script>\n",
              "        const buttonEl =\n",
              "          document.querySelector('#df-2ab57121-21d5-42b2-b328-e6621a60e44e button.colab-df-convert');\n",
              "        buttonEl.style.display =\n",
              "          google.colab.kernel.accessAllowed ? 'block' : 'none';\n",
              "\n",
              "        async function convertToInteractive(key) {\n",
              "          const element = document.querySelector('#df-2ab57121-21d5-42b2-b328-e6621a60e44e');\n",
              "          const dataTable =\n",
              "            await google.colab.kernel.invokeFunction('convertToInteractive',\n",
              "                                                     [key], {});\n",
              "          if (!dataTable) return;\n",
              "\n",
              "          const docLinkHtml = 'Like what you see? Visit the ' +\n",
              "            '<a target=\"_blank\" href=https://colab.research.google.com/notebooks/data_table.ipynb>data table notebook</a>'\n",
              "            + ' to learn more about interactive tables.';\n",
              "          element.innerHTML = '';\n",
              "          dataTable['output_type'] = 'display_data';\n",
              "          await google.colab.output.renderOutput(dataTable, element);\n",
              "          const docLink = document.createElement('div');\n",
              "          docLink.innerHTML = docLinkHtml;\n",
              "          element.appendChild(docLink);\n",
              "        }\n",
              "      </script>\n",
              "    </div>\n",
              "  </div>\n",
              "  "
            ]
          },
          "metadata": {},
          "execution_count": 27
        }
      ],
      "source": [
        "# naming each principal component\n",
        "factor_loadings_df.columns = ['Looking_for_space',    \n",
        "                              'Bigger_living_spaces',       \n",
        "                              'Looking_for_big_terrains',  \n",
        "                              'NA',\n",
        "                              'NA',\n",
        "                              'NA',\n",
        "                              'NA',\n",
        "                              'NA',\n",
        "                              'NA',] \n",
        "\n",
        "\n",
        "# checking the result\n",
        "factor_loadings_df.round(decimals=2)\n",
        "\n",
        "\n",
        "\n",
        "\n"
      ]
    },
    {
      "cell_type": "markdown",
      "id": "8bdfe6ae",
      "metadata": {
        "deletable": false,
        "editable": false,
        "run_control": {
          "frozen": true
        },
        "id": "8bdfe6ae"
      },
      "source": [
        "<hr style=\"height:.9px;border:none;color:#333;background-color:#333;\" />\n",
        "<h3>Step 7</h3><br>\n",
        "Write an interpretation of the results (5-7 sentences per retained principal component)."
      ]
    },
    {
      "cell_type": "code",
      "execution_count": null,
      "id": "69c3cdaa",
      "metadata": {
        "id": "69c3cdaa"
      },
      "outputs": [],
      "source": [
        "# Looking_for_space:\n",
        " \n",
        "#  The data indicates that the first set of customers are positively correlated\n",
        "#  to space availability. They are attracted to Total Basement Square Footage,\n",
        "#   First Floor Square Footage and Ground Living Area. \n",
        "#   These areas of the house are traditionally large areas. \n",
        "#   The variance of 0.43, 0.46 and 0.44 respectively for total basement area, first floor and ground living areas indicate an attraction for large space.\n",
        "#   Interestingly there is no negative correlation regarding large space.\n",
        "\n",
        "# Bigger_living_spaces: \n",
        "\n",
        "# Big living spaces has shown to be another attractive portion of the house to customers.\n",
        "# The second floor and the ground living area show a positive correlated variance of 0.77 and 0.44 respectively.\n",
        "# Negative correlation for this set of customers is negligible.\n",
        "# Traditionally houses are built with living areas as they provide comfort for owners.\n",
        "# Hence, it can be concluded that bigger living spaces play a key role in customer´s decision making process.\n",
        "\n",
        "# Looking for big terrains:\n",
        "\n",
        "# The third category of customers are attracted to bigger terrains.\n",
        "# This can be shown by the positively correlated variance of 0.75 for the lot area.\n",
        "# Paradoxical, the data shows a negative correlation within this category of customers.\n",
        "# This behavior indicates less attraction to mass venere area as shown with the variance -0.49.\n",
        "# Hence, it can be concluded that having the large lot area attracts customers.\n",
        "\n"
      ]
    },
    {
      "cell_type": "markdown",
      "source": [
        ""
      ],
      "metadata": {
        "id": "95qsWX4ZXIwZ"
      },
      "id": "95qsWX4ZXIwZ"
    }
  ],
  "metadata": {
    "kernelspec": {
      "display_name": "Python 3 (ipykernel)",
      "language": "python",
      "name": "python3"
    },
    "language_info": {
      "codemirror_mode": {
        "name": "ipython",
        "version": 3
      },
      "file_extension": ".py",
      "mimetype": "text/x-python",
      "name": "python",
      "nbconvert_exporter": "python",
      "pygments_lexer": "ipython3",
      "version": "3.9.7"
    },
    "toc": {
      "base_numbering": 1,
      "nav_menu": {},
      "number_sections": false,
      "sideBar": true,
      "skip_h1_title": false,
      "title_cell": "Table of Contents",
      "title_sidebar": "Contents",
      "toc_cell": false,
      "toc_position": {},
      "toc_section_display": true,
      "toc_window_display": false
    },
    "varInspector": {
      "cols": {
        "lenName": 16,
        "lenType": 16,
        "lenVar": 40
      },
      "kernels_config": {
        "python": {
          "delete_cmd_postfix": "",
          "delete_cmd_prefix": "del ",
          "library": "var_list.py",
          "varRefreshCmd": "print(var_dic_list())"
        },
        "r": {
          "delete_cmd_postfix": ") ",
          "delete_cmd_prefix": "rm(",
          "library": "var_list.r",
          "varRefreshCmd": "cat(var_dic_list()) "
        }
      },
      "types_to_exclude": [
        "module",
        "function",
        "builtin_function_or_method",
        "instance",
        "_Feature"
      ],
      "window_display": false
    },
    "colab": {
      "name": "Template - Unsupervised Learning Homework.ipynb",
      "provenance": [],
      "toc_visible": true
    }
  },
  "nbformat": 4,
  "nbformat_minor": 5
}